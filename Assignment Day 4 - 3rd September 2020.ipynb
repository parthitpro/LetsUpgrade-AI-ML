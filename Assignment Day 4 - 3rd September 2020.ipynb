{
 "cells": [
  {
   "cell_type": "markdown",
   "metadata": {},
   "source": [
    "## Assignment Day 4 - 3rd September 2020"
   ]
  },
  {
   "cell_type": "markdown",
   "metadata": {},
   "source": [
    "#### Question 1 :Research on whether addition, subtraction, multiplication, division, floor division, and modulo operations be performed on complex numbers. Based on your study, implement a Python program to demonstrate these operations."
   ]
  },
  {
   "cell_type": "code",
   "execution_count": 1,
   "metadata": {},
   "outputs": [
    {
     "name": "stdout",
     "output_type": "stream",
     "text": [
      "Addition of 2 Complex numbers is:  (11+1j)\n",
      "Subtraction of 2 complex numbers is:  (2+9j)\n",
      "Multiplication of 2 complex numbers is:  (34+34j)\n",
      "Division of 2 complex numbers is:  (-0.14754098360655735+0.6229508196721312j)\n"
     ]
    }
   ],
   "source": [
    "print(\"Addition of 2 Complex numbers is: \",(5+3j)+(6-2j))\n",
    "print(\"Subtraction of 2 complex numbers is: \",(7+2j)-(5-7j))\n",
    "print(\"Multiplication of 2 complex numbers is: \",(2+8j)*(5-3j))\n",
    "print(\"Division of 2 complex numbers is: \",(3+4j)/(5-6j))"
   ]
  },
  {
   "cell_type": "markdown",
   "metadata": {},
   "source": [
    "#### Question 2 :Research on range() functions and its parameters. Create a markdown cell and write in your own words (no copy-paste from google please) what you understand about it. Implement a small program of your choice on the same."
   ]
  },
  {
   "cell_type": "markdown",
   "metadata": {},
   "source": [
    "The Range function is a function which can be used for creating sequence of Integers.It can take 1,2 or 3 parameters,where the first parameter represnts the starting number,the second the stop number and the third represents the step at which the integers are created.Below are some of the Examples using 1,2 & 3 parameters with lists:"
   ]
  },
  {
   "cell_type": "code",
   "execution_count": 2,
   "metadata": {},
   "outputs": [
    {
     "name": "stdout",
     "output_type": "stream",
     "text": [
      "[0, 1, 2, 3]\n"
     ]
    }
   ],
   "source": [
    "print(list(range(4))) # Here as its only 1 parameter so,argument inside shows the max range."
   ]
  },
  {
   "cell_type": "code",
   "execution_count": 3,
   "metadata": {},
   "outputs": [
    {
     "name": "stdout",
     "output_type": "stream",
     "text": [
      "[4, 5, 6, 7, 8, 9, 10, 11, 12, 13, 14, 15, 16, 17, 18, 19]\n"
     ]
    }
   ],
   "source": [
    "print(list(range(4,20))) # Here using 2 parameters,the 1st argument represents the start and 2nd represents the end."
   ]
  },
  {
   "cell_type": "code",
   "execution_count": 4,
   "metadata": {},
   "outputs": [
    {
     "name": "stdout",
     "output_type": "stream",
     "text": [
      "[4, 6, 8, 10, 12, 14, 16, 18]\n"
     ]
    }
   ],
   "source": [
    "print(list(range(4,20,2))) # Here using 3 parameters,the 1st argument represents the start,2nd represents the stop and 3rd represents the step."
   ]
  },
  {
   "cell_type": "code",
   "execution_count": 5,
   "metadata": {},
   "outputs": [
    {
     "name": "stdout",
     "output_type": "stream",
     "text": [
      "10,9,8,7,6,5,4,3,2,1,"
     ]
    }
   ],
   "source": [
    "even = 0 #Here using range() as an iterator\n",
    "for i in range(10,0,-1):\n",
    "    print(i,end=\",\")\n",
    "# Here we have used the negative/reversed iteration."
   ]
  },
  {
   "cell_type": "markdown",
   "metadata": {},
   "source": [
    "#### Question 3:Consider two numbers. Perform their subtraction and if the result of subtraction is greater than 25, print their multiplication result else print their division result."
   ]
  },
  {
   "cell_type": "code",
   "execution_count": 6,
   "metadata": {},
   "outputs": [
    {
     "name": "stdout",
     "output_type": "stream",
     "text": [
      "2850\n"
     ]
    }
   ],
   "source": [
    "a = 95\n",
    "b = 30\n",
    "if (a-b) > 25:\n",
    "    print(a*b)\n",
    "else:\n",
    "    print(a/b)"
   ]
  },
  {
   "cell_type": "markdown",
   "metadata": {},
   "source": [
    "#### Question 4:Consider a list of 10 elements of integer values. If the number in the list is divisible by 2, print the result as \"square of that number minus 2\"."
   ]
  },
  {
   "cell_type": "code",
   "execution_count": 7,
   "metadata": {},
   "outputs": [
    {
     "name": "stdout",
     "output_type": "stream",
     "text": [
      "square of the number minus 2: 0\n",
      "square of the number minus 2: 2\n",
      "square of the number minus 2: 4\n",
      "square of the number minus 2: 6\n",
      "square of the number minus 2: 8\n",
      "square of the number minus 2: 10\n"
     ]
    }
   ],
   "source": [
    "for x in range(11):\n",
    "     if x%2 == 0:\n",
    "        print(\"square of the number minus 2:\",x)"
   ]
  },
  {
   "cell_type": "markdown",
   "metadata": {},
   "source": [
    "#### Question 5:Consider a list of 10 elements. Print all the elements in the list which are greater than 7 when that number is divided 2."
   ]
  },
  {
   "cell_type": "code",
   "execution_count": 8,
   "metadata": {},
   "outputs": [
    {
     "name": "stdout",
     "output_type": "stream",
     "text": [
      "26\n",
      "24\n",
      "15\n",
      "20\n",
      "32\n",
      "40\n",
      "88\n",
      "73\n"
     ]
    }
   ],
   "source": [
    "list =[26,24,10,15,20,12,32,40,88,73]\n",
    "k = 7\n",
    "count = 0\n",
    "for i in list : \n",
    "    if (i/2) > k :\n",
    "        print(i)"
   ]
  }
 ],
 "metadata": {
  "kernelspec": {
   "display_name": "Python 3",
   "language": "python",
   "name": "python3"
  },
  "language_info": {
   "codemirror_mode": {
    "name": "ipython",
    "version": 3
   },
   "file_extension": ".py",
   "mimetype": "text/x-python",
   "name": "python",
   "nbconvert_exporter": "python",
   "pygments_lexer": "ipython3",
   "version": "3.6.10"
  }
 },
 "nbformat": 4,
 "nbformat_minor": 4
}
