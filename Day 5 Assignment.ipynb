{
 "cells": [
  {
   "cell_type": "markdown",
   "metadata": {},
   "source": [
    "Question 1 :\n",
    "Write a Python program to find the first 20 non-even prime natural numbers."
   ]
  },
  {
   "cell_type": "code",
   "execution_count": 22,
   "metadata": {},
   "outputs": [
    {
     "name": "stdout",
     "output_type": "stream",
     "text": [
      "3\n",
      "5\n",
      "7\n",
      "11\n",
      "13\n",
      "17\n",
      "19\n"
     ]
    }
   ],
   "source": [
    "for num in range(1,21):\n",
    "   if num > 2: # As 2 is an even, i am starting the sequence from 2 itself.\n",
    "       for i in range(2, num):\n",
    "           if (num % i) == 0:\n",
    "               break\n",
    "       else:\n",
    "           print(num)"
   ]
  },
  {
   "cell_type": "markdown",
   "metadata": {},
   "source": [
    "Question 2 :\n",
    "Write a Python program to implement 15 functions of string."
   ]
  },
  {
   "cell_type": "code",
   "execution_count": 69,
   "metadata": {},
   "outputs": [
    {
     "name": "stdout",
     "output_type": "stream",
     "text": [
      "apples are fruits,fruits are good.\n",
      "APPLES ARE FRUITS,FRUITS ARE GOOD.\n",
      "False\n",
      "False\n",
      "Apples are vegetables,vegetables are good.\n",
      "aPPLES ARE FRUITS,FRUITS ARE GOOD.\n",
      "False\n",
      "False\n",
      "2\n",
      "7\n",
      "False\n",
      "True\n",
      "False\n",
      "hello, Apples are fruits,fruits are good.\n"
     ]
    }
   ],
   "source": [
    "sentence = \"Apples are fruits,fruits are good.\"\n",
    "aaa = \"hello\"\n",
    "print(sentence.lower())\n",
    "print(sentence.upper())\n",
    "print(sentence.isdecimal())\n",
    "print(sentence.isnumeric())\n",
    "print(sentence.replace(\"fruits\",\"vegetables\"))\n",
    "print(sentence.swapcase())\n",
    "print(sentence.islower())\n",
    "print(sentence.endswith(\"a\")) # Searches if the strings end with \"a\"\n",
    "print(sentence.count(\"fruits\")) # Finds the no. of times the word repeats.\n",
    "print(sentence.find(\"are\")) #Finds the word first appearnace in the string\n",
    "print(sentence.isalpha())\n",
    "print(sentence.isascii())\n",
    "print(sentence.isspace())\n",
    "print(aaa + \", \" + sentence)"
   ]
  },
  {
   "cell_type": "markdown",
   "metadata": {},
   "source": [
    "Question 3:\n",
    "Write a Python program to check if the given string is a Palindrome or Anagram or None of them. Display\n",
    "the message accordingly to the user."
   ]
  },
  {
   "cell_type": "code",
   "execution_count": null,
   "metadata": {},
   "outputs": [],
   "source": [
    "x = input(\"Enter the Word to checked:\")\n",
    "m = x[::-1]\n",
    "if s==d:\n",
    "    print(\"Its a Palindrome\")\n",
    "elif:\n",
    "    len(x)==len(m)\n",
    "    print(\"Its a anagram\")\n",
    "else:\n",
    "    print(\"Its neither Palindrome or Anagram\")\n",
    "    \n"
   ]
  },
  {
   "cell_type": "markdown",
   "metadata": {},
   "source": [
    "Question 4:\n",
    "Write a Python's user-defined function that removes all the additional characters from the string and\n",
    "convert it finally to lower case using built-in lower(). eg: If the string is \"Dr. Darshan Ingle @AIML Trainer\",\n",
    "then the output be \"drdarshaningleaimltrainer\"."
   ]
  },
  {
   "cell_type": "code",
   "execution_count": 34,
   "metadata": {},
   "outputs": [
    {
     "name": "stdout",
     "output_type": "stream",
     "text": [
      "Enter the String/Sentence containing alphanumeric and special characters:Cyber2ram@gmail.com\n",
      "cyber2ramgmailcom\n"
     ]
    }
   ],
   "source": [
    "abc = input(\"Enter the String/Sentence containing alphanumeric and special characters:\")\n",
    "#abc = \"Dr. Darshan Ingle @AIML Trainer\"\n",
    "s =\"\"\n",
    "for i in abc:\n",
    "    if i.isalnum():\n",
    "        s+=i\n",
    "print(s.lower())"
   ]
  },
  {
   "cell_type": "code",
   "execution_count": null,
   "metadata": {},
   "outputs": [],
   "source": []
  }
 ],
 "metadata": {
  "kernelspec": {
   "display_name": "Python 3",
   "language": "python",
   "name": "python3"
  },
  "language_info": {
   "codemirror_mode": {
    "name": "ipython",
    "version": 3
   },
   "file_extension": ".py",
   "mimetype": "text/x-python",
   "name": "python",
   "nbconvert_exporter": "python",
   "pygments_lexer": "ipython3",
   "version": "3.8.3"
  }
 },
 "nbformat": 4,
 "nbformat_minor": 4
}
